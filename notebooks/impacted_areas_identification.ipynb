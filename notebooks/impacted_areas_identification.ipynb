{
 "cells": [
  {
   "cell_type": "markdown",
   "metadata": {},
   "source": [
    "# Identify the impact of an event in a particular area  \n",
    "\n",
    "\n",
    "> 👋 Before moving on with this demo, you must first sign-up and request your Geosys APIs credentials here :\n",
    "> - ⚙️[Try it now](https://www.earthdaily.com/geosys/geosys-api/)\n",
    "\n",
    "> For more information about our Geosys APIs : \n",
    "> - 📚 [Geosys APIs to connect with your digital ag application](https://www.earthdaily.com/geosys/geosys-api/)\n",
    "\n",
    "\n",
    "> **Demo Project:** This demo demonstrates the ability to identify and calculate the impacted area within a given geometric region resulting from a specific event.\n",
    "\n",
    "\n",
    "\n",
    "### @author: Geosys\n",
    "\n",
    "\n",
    "\n"
   ]
  },
  {
   "cell_type": "markdown",
   "metadata": {},
   "source": [
    " ## Importing required libraries and create ImpactedAreasIdentificator instance"
   ]
  },
  {
   "cell_type": "code",
   "execution_count": null,
   "metadata": {},
   "outputs": [],
   "source": [
    "import sys\n",
    "sys.path.append('../src/')\n",
    "from geosyspy import Geosys\n",
    "from dateutil.relativedelta import relativedelta\n",
    "from matplotlib.colors import LinearSegmentedColormap,ListedColormap\n",
    "from geosyspy.utils.constants import *\n",
    "from vegetation_index_impacted_areas_identificator.impacted_areas_identification import *\n",
    "from vegetation_index_impacted_areas_identificator.vegetation_index import *\n",
    "\n",
    "import logging\n",
    "import pandas as pd\n",
    "import matplotlib.pyplot as plt\n",
    "import xarray as xr\n",
    "import numpy as np\n",
    "import datetime as dt\n",
    "\n",
    "\n",
    "logger = logging.getLogger()\n",
    "logger.setLevel(logging.ERROR)\n",
    "\n",
    "client = ImpactedAreasIdentificator(Env.PROD)"
   ]
  },
  {
   "cell_type": "markdown",
   "metadata": {},
   "source": [
    " ## Input data\n",
    "\n",
    "These input parameters are utilized in the demo to identify and calculate the impacted area resulting from the specified event and threshold within the given geometric region. The input data for this example consists of the following parameters:\n",
    "\n",
    "#### geometry: \n",
    "A geometry string in WKT format representing the geometric region of interest. This geometry defines the boundaries of the area under analysis.\n",
    "\n",
    "#### event_date: \n",
    "A datetime object representing the date of the event. In this case, the event date is \"2022-09-15\".\n",
    "\n",
    "#### min_duration: \n",
    "An int-point value representing the minimum number between the dates to perform the impacted area analysis. In this example, the minimum duration is set to 10.\n",
    "\n",
    "#### threshold: \n",
    "A floating-point value representing the threshold for evaluating the impact. In this example, the threshold is set to -0.15.\n",
    "\n",
    "#### indicator: \n",
    "A vegetation index. In this example, the indicator is set to VegetationIndex.NDVI.\n"
   ]
  },
  {
   "cell_type": "code",
   "execution_count": null,
   "metadata": {},
   "outputs": [],
   "source": [
    "geometry = \"POLYGON((-93.96113724989586 44.473577981244325,-93.95521493239097 44.474925388980246,-93.95049424452476 44.473057383559784,-93.94929261488609 44.4702093257966,-93.94903512282066 44.46641169924883,-93.95272584242515 44.46604417388972,-93.96010728163414 44.46616668259985,-93.96233887953453 44.46849429924204,-93.96113724989586 44.473577981244325))\"\n",
    "\n",
    "event_date = dt.datetime.strptime(\"2022-09-15\", \"%Y-%m-%d\")\n",
    "\n",
    "min_duration = 10\n",
    "\n",
    "threshold = -0.15\n",
    "\n",
    "indicator = VegetationIndex.NDVI\n"
   ]
  },
  {
   "cell_type": "markdown",
   "metadata": {},
   "source": [
    " # Option 1: Identify the impacted areas using Map Reference"
   ]
  },
  {
   "cell_type": "markdown",
   "metadata": {},
   "source": [
    "## 1️⃣ Call the coverage for the area and retrieve images before and after the event date\n",
    "\n",
    "To obtain coverage information for the area of interest, make a call to retrieve satellite images captured before and after the event date."
   ]
  },
  {
   "cell_type": "code",
   "execution_count": null,
   "metadata": {},
   "outputs": [],
   "source": [
    "coverage_info_df, images_references = client.get_image_coverage_info_based_on_map_reference(geometry, event_date)\n",
    "\n",
    "image_date_list = pd.to_datetime(coverage_info_df['image.date']).dt.date"
   ]
  },
  {
   "cell_type": "markdown",
   "metadata": {},
   "source": [
    "## 2️⃣Retrieve vegetation index images before and after the specified event date \n",
    "\n",
    "Retrieve the Vegetation Index images captured before and after the specified event date\n"
   ]
  },
  {
   "cell_type": "code",
   "execution_count": null,
   "metadata": {},
   "outputs": [],
   "source": [
    "nearest_event_date = client.find_nearest_dates(event_date.date(), min_duration, image_date_list)\n",
    "\n",
    "vi_images_nearest_event_date = client.get_vi_image_time_series(geometry,\n",
    "                                                                         nearest_event_date[\"before_event_date\"],\n",
    "                                                                         nearest_event_date[\"after_event_date\"],\n",
    "                                                                   indicator.value)\n",
    "\n",
    "vi_before_event_date = vi_images_nearest_event_date.sel(time=str(nearest_event_date[\"before_event_date\"]))[indicator.value]\n",
    "\n",
    "vi_after_event_date = vi_images_nearest_event_date.sel(time=str(nearest_event_date[\"after_event_date\"]))[indicator.value]"
   ]
  },
  {
   "cell_type": "markdown",
   "metadata": {},
   "source": [
    "## 3️⃣Retrieve the impacted area based on a threshold\n",
    "\n",
    "Calculate and retrieve the impacted area based on a specified threshold value.\n"
   ]
  },
  {
   "cell_type": "markdown",
   "metadata": {},
   "source": [
    "### Retrieve the impacted area (xarray)\n"
   ]
  },
  {
   "cell_type": "code",
   "execution_count": null,
   "metadata": {},
   "outputs": [],
   "source": [
    "vi_impacted_area = client.calculate_and_filter_vi_difference_by_threshold(vi_before_event_date,\n",
    "                                                                                  vi_after_event_date,\n",
    "                                                                                  threshold)\n",
    "vi_impacted_area"
   ]
  },
  {
   "cell_type": "markdown",
   "metadata": {},
   "source": [
    "### Retrieve the impacted area (area and %)"
   ]
  },
  {
   "cell_type": "code",
   "execution_count": null,
   "metadata": {},
   "outputs": [],
   "source": [
    "impacted_area,impacted_area_percentage = client.calculate_impacted_area(geometry, vi_impacted_area)\n",
    "\n",
    "print('# Impacted area: {:12.3f} m²'.format(impacted_area))\n",
    "print('# Impacted area percentage: {:2.2f} %'.format(impacted_area_percentage))"
   ]
  },
  {
   "cell_type": "markdown",
   "metadata": {},
   "source": [
    "##  4️⃣ Display the results\n",
    "Visualize the results using matplotlib by displaying the vegetation index of the image just before the event date, the image after the event date, and the impacted area."
   ]
  },
  {
   "cell_type": "code",
   "execution_count": null,
   "metadata": {},
   "outputs": [],
   "source": [
    "# Select only x and y dimension to display indicator vegetation index \n",
    "vi_before_event_date_image= vi_before_event_date.squeeze().drop(['time', 'band'])\n",
    "vi_after_event_date_image= vi_after_event_date.squeeze().drop(['time', 'band'])\n",
    "\n",
    "fig, ax = plt.subplots(1, 2, figsize=(10,4))\n",
    "colors =['red', 'yellow', 'green']\n",
    "cmap =  LinearSegmentedColormap.from_list(['red_green'],colors)\n",
    "vi_before_event_date_image.plot(ax=ax[0], cmap = cmap)\n",
    "ax[0].set_title(f\"{np.datetime_as_string(vi_before_event_date['time'].values, unit='D')}, {vi_before_event_date['image.sensor'].values}\")\n",
    "\n",
    "vi_after_event_date_image.plot(ax=ax[1],  cmap = cmap)\n",
    "ax[1].set_title(f\"{np.datetime_as_string(vi_after_event_date['time'].values, unit='D')}, {vi_after_event_date['image.sensor'].values}\")\n",
    "\n",
    "fig.tight_layout()\n",
    "\n",
    "fig2, ax2 = plt.subplots(figsize=(5,5))\n",
    "plt.imshow(vi_after_event_date_image,  cmap = cmap, alpha = 0.1)\n",
    "plt.imshow(vi_impacted_area, aspect = 'auto')\n",
    "plt.title(f\"{indicator.value} threshold= {threshold}\")\n",
    "plt.contourf(vi_impacted_area, colors = 'red', alpha = 0.9)\n",
    "plt.legend(handles=[plt.Rectangle((0,0),1,1, color = 'red')], labels=['Impacted Area'])"
   ]
  },
  {
   "cell_type": "markdown",
   "metadata": {},
   "source": [
    "\n",
    "\n",
    " \n",
    " # Option 2: Identify the impacted areas using STAC Data"
   ]
  },
  {
   "cell_type": "markdown",
   "metadata": {},
   "source": [
    "## 1️⃣ Defining variables for Sentinel-2 STAC to be used by Skyfox "
   ]
  },
  {
   "cell_type": "code",
   "execution_count": null,
   "metadata": {},
   "outputs": [],
   "source": [
    "s2_sensor_collection = \"sentinel-2-l2a\"\n",
    "s2_acm_mask = \"sentinel-2-l2a-cog-ag-cloud-mask\"\n",
    "s2_bands= [\"red\", \"green\", \"blue\", \"nir\"]\n",
    "mask_band = [\"agriculture-cloud-mask\"]"
   ]
  },
  {
   "cell_type": "markdown",
   "metadata": {},
   "source": [
    "## 2️⃣ Retrieving Raw Image Data Cube using STAC Catalog\n",
    "The retrieved images include data from 6 months before and after the event date."
   ]
  },
  {
   "cell_type": "code",
   "execution_count": null,
   "metadata": {},
   "outputs": [],
   "source": [
    "raw_image_datacube = client.get_raw_images_from_stac(sensor_collection = s2_sensor_collection, \n",
    "                                                 event_date=event_date,\n",
    "                                                 min_duration= min_duration,\n",
    "                                                 geometry_wkt= geometry,\n",
    "                                                 bands =s2_bands)\n"
   ]
  },
  {
   "cell_type": "markdown",
   "metadata": {},
   "source": [
    "## 3️⃣ Retrieving Cloud Mask Data Cube using STAC Catalog\n",
    "The retrieved cloud mask correspond the images raw data in a period of 6 months before and after the event date."
   ]
  },
  {
   "cell_type": "code",
   "execution_count": null,
   "metadata": {},
   "outputs": [],
   "source": [
    "cloudmask_datacube = client.get_cloud_mask_from_stac(s2_acm_mask, event_date, geometry, mask_band,\n",
    "                                                           config=None)\n"
   ]
  },
  {
   "cell_type": "markdown",
   "metadata": {},
   "source": [
    "## 4️⃣ Applying Cloud Mask to Raw Image Data Cube\n",
    " Applies the cloud mask to the raw image data cube."
   ]
  },
  {
   "cell_type": "code",
   "execution_count": null,
   "metadata": {},
   "outputs": [],
   "source": [
    "free_cloud_images = client.apply_cloud_mask_to_raw_images_datacube(raw_image_datacube, cloudmask_datacube)"
   ]
  },
  {
   "cell_type": "markdown",
   "metadata": {},
   "source": [
    "## 5️⃣ Retrieve vegetation index images before and after the specified event date "
   ]
  },
  {
   "cell_type": "code",
   "execution_count": null,
   "metadata": {},
   "outputs": [],
   "source": [
    "# Set the maximum cloud cover percentage\n",
    "max_cloud_cover_percentage = 10\n",
    "\n",
    "times_to_keep = client.get_nearest_event_date_time_indices(free_cloud_images, event_date, min_duration, max_cloud_cover_percentage)\n",
    "\n",
    "vi_before_event_date, vi_after_event_date = client.calculate_vi_images_nearest_event_date(\n",
    "            free_cloud_images, times_to_keep, indicator)\n"
   ]
  },
  {
   "cell_type": "markdown",
   "metadata": {},
   "source": [
    "## 6️⃣ Retrieve the impacted area based on a threshold\n",
    "Calculate and retrieve the impacted area based on a specified threshold value."
   ]
  },
  {
   "cell_type": "markdown",
   "metadata": {},
   "source": [
    "### Retrieve the impacted area (xarray)"
   ]
  },
  {
   "cell_type": "code",
   "execution_count": null,
   "metadata": {},
   "outputs": [],
   "source": [
    "vi_impacted_area = client.calculate_and_filter_vi_difference_by_threshold(vi_before_event_date,\n",
    "                                                                                vi_after_event_date, threshold)\n",
    "vi_impacted_area"
   ]
  },
  {
   "cell_type": "markdown",
   "metadata": {},
   "source": [
    "### Retrieve the impacted area (surface and %)"
   ]
  },
  {
   "cell_type": "code",
   "execution_count": null,
   "metadata": {},
   "outputs": [],
   "source": [
    "impacted_area, impacted_area_percentage = client.calculate_impacted_area(geometry, vi_impacted_area.compute())\n",
    "\n",
    "print('# Impacted area: {:12.3f} m²'.format(impacted_area))\n",
    "print('# Impacted area percentage: {:2.2f} %'.format(impacted_area_percentage))"
   ]
  },
  {
   "cell_type": "markdown",
   "metadata": {},
   "source": [
    "##  7️⃣ Display the results\n",
    "Visualize the results using matplotlib by displaying the vegetation index of the image just before and after the event date as well as the impacted area."
   ]
  },
  {
   "cell_type": "code",
   "execution_count": null,
   "metadata": {},
   "outputs": [],
   "source": [
    "fig, ax = plt.subplots(1, 2, figsize=(10,4))\n",
    "colors =['red', 'yellow', 'green']\n",
    "cmap =  LinearSegmentedColormap.from_list(['red_green'],colors)\n",
    "vi_before_event_date.plot(ax=ax[0], cmap = cmap)\n",
    "ax[0].set_title(f\"{np.datetime_as_string(vi_before_event_date['time'].values, unit='D')}\")\n",
    "\n",
    "vi_after_event_date.plot(ax=ax[1],  cmap = cmap)\n",
    "ax[1].set_title(f\"{np.datetime_as_string(vi_after_event_date['time'].values, unit='D')}\")\n",
    "\n",
    "fig.tight_layout()\n",
    "\n",
    "fig2, ax2 = plt.subplots(figsize=(5,5))\n",
    "plt.imshow(vi_after_event_date.where(~np.isnan(vi_before_event_date)),  cmap = cmap, alpha = 0.1)\n",
    "plt.imshow(vi_impacted_area, aspect = 'auto')\n",
    "plt.title(f\" {indicator.value} threshold= {threshold}\")\n",
    "plt.contourf(vi_impacted_area, colors = 'red', alpha = 0.9)\n",
    "plt.legend(handles=[plt.Rectangle((0,0),1,1, color = 'red')], labels=['Impacted Area'])"
   ]
  },
  {
   "cell_type": "code",
   "execution_count": null,
   "metadata": {},
   "outputs": [],
   "source": []
  }
 ],
 "metadata": {
  "kernelspec": {
   "display_name": "base",
   "language": "python",
   "name": "python3"
  },
  "language_info": {
   "codemirror_mode": {
    "name": "ipython",
    "version": 3
   },
   "file_extension": ".py",
   "mimetype": "text/x-python",
   "name": "python",
   "nbconvert_exporter": "python",
   "pygments_lexer": "ipython3",
   "version": "3.9.17"
  }
 },
 "nbformat": 4,
 "nbformat_minor": 4
}
